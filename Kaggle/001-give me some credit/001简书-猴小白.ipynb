{
 "cells": [
  {
   "cell_type": "code",
   "execution_count": 33,
   "metadata": {},
   "outputs": [
    {
     "name": "stdout",
     "output_type": "stream",
     "text": [
      "/Users/walkingpotato/anaconda3/lib/python3.6/site-packages/matplotlib/mpl-data/matplotlibrc\n"
     ]
    }
   ],
   "source": [
    "#https://www.jianshu.com/p/8263e9744fac\n",
    "import pandas as pd;\n",
    "import matplotlib.pyplot as plt;\n",
    "import matplotlib;\n",
    "import numpy as np;\n",
    "pd.set_option('display.unicode.ambiguous_as_wide', True)\n",
    "pd.set_option('display.unicode.east_asian_width', True)\n",
    "pd.set_option('display.width', 240) # 设置打印宽度(**重要**)\n",
    "#解决中文显示问题\n",
    "plt.rcParams['font.sans-serif'] = ['SimHei'] # 指定默认字体\n",
    "plt.rcParams['axes.unicode_minus'] = False # 解决保存图像是负号'-'显示为方块的问题\n",
    "print(matplotlib.matplotlib_fname())"
   ]
  },
  {
   "cell_type": "code",
   "execution_count": 2,
   "metadata": {},
   "outputs": [],
   "source": [
    "#一、数据集\n",
    "rawdata = pd.read_csv('cs-training.csv',index_col=[0]);\n",
    "#print(rawdata.head());"
   ]
  },
  {
   "cell_type": "code",
   "execution_count": 3,
   "metadata": {},
   "outputs": [
    {
     "name": "stdout",
     "output_type": "stream",
     "text": [
      "   好坏客户  可用额度比值  年龄  逾期30-59天笔数    负债率   月收入  信贷数量  逾期90天笔数  固定资产贷款量  逾期60-89天笔数  家属数量\n",
      "1         1      0.766127    45                2  0.802982   9120.0        13             0               6                0       2.0\n",
      "2         0      0.957151    40                0  0.121876   2600.0         4             0               0                0       1.0\n",
      "3         0      0.658180    38                1  0.085113   3042.0         2             1               0                0       0.0\n",
      "4         0      0.233810    30                0  0.036050   3300.0         5             0               0                0       0.0\n",
      "5         0      0.907239    49                1  0.024926  63588.0         7             0               1                0       0.0\n"
     ]
    }
   ],
   "source": [
    "column={\n",
    "        'ID':'用户ID',\n",
    "        'SeriousDlqin2yrs':'好坏客户',\n",
    "        'RevolvingUtilizationOfUnsecuredLines':'可用额度比值',\n",
    "        'age':'年龄',\n",
    "        'NumberOfTime30-59DaysPastDueNotWorse':'逾期30-59天笔数',\n",
    "        'DebtRatio':'负债率',\n",
    "        'MonthlyIncome':'月收入',\n",
    "        'NumberOfOpenCreditLinesAndLoans':'信贷数量',\n",
    "        'NumberOfTimes90DaysLate':'逾期90天笔数',\n",
    "        'NumberRealEstateLoansOrLines':'固定资产贷款量',\n",
    "        'NumberOfTime60-89DaysPastDueNotWorse':'逾期60-89天笔数',\n",
    "        'NumberOfDependents':'家属数量'\n",
    "}\n",
    "rawdata.rename(columns=column,inplace=True);\n",
    "print(rawdata.head());"
   ]
  },
  {
   "cell_type": "code",
   "execution_count": 4,
   "metadata": {},
   "outputs": [
    {
     "name": "stdout",
     "output_type": "stream",
     "text": [
      "(150000, 11)\n"
     ]
    }
   ],
   "source": [
    "#查看数据维度\n",
    "print(rawdata.shape);"
   ]
  },
  {
   "cell_type": "code",
   "execution_count": 5,
   "metadata": {},
   "outputs": [
    {
     "name": "stdout",
     "output_type": "stream",
     "text": [
      "<class 'pandas.core.frame.DataFrame'>\n",
      "Int64Index: 150000 entries, 1 to 150000\n",
      "Data columns (total 11 columns):\n",
      "好坏客户          150000 non-null int64\n",
      "可用额度比值        150000 non-null float64\n",
      "年龄            150000 non-null int64\n",
      "逾期30-59天笔数    150000 non-null int64\n",
      "负债率           150000 non-null float64\n",
      "月收入           120269 non-null float64\n",
      "信贷数量          150000 non-null int64\n",
      "逾期90天笔数       150000 non-null int64\n",
      "固定资产贷款量       150000 non-null int64\n",
      "逾期60-89天笔数    150000 non-null int64\n",
      "家属数量          146076 non-null float64\n",
      "dtypes: float64(4), int64(7)\n",
      "memory usage: 13.7 MB\n",
      "None\n"
     ]
    }
   ],
   "source": [
    "#查看数据类型和缺失值\n",
    "print(rawdata.info());\n",
    "#“月收入”和“家属数量”有缺失"
   ]
  },
  {
   "cell_type": "code",
   "execution_count": 6,
   "metadata": {},
   "outputs": [
    {
     "name": "stdout",
     "output_type": "stream",
     "text": [
      "0    139974\n",
      "1     10026\n",
      "Name: 好坏客户, dtype: int64\n"
     ]
    }
   ],
   "source": [
    "#查看标签分布\n",
    "print(rawdata['好坏客户'].value_counts());"
   ]
  },
  {
   "cell_type": "code",
   "execution_count": 7,
   "metadata": {},
   "outputs": [
    {
     "name": "stdout",
     "output_type": "stream",
     "text": [
      "(149391, 11)\n"
     ]
    }
   ],
   "source": [
    "#二、特征工程\n",
    "#2.1去除重复值\n",
    "rawdata.drop_duplicates(inplace=True);\n",
    "rawdata.index=range(rawdata.shape[0]);\n",
    "print(rawdata.shape);"
   ]
  },
  {
   "cell_type": "code",
   "execution_count": 8,
   "metadata": {},
   "outputs": [
    {
     "name": "stdout",
     "output_type": "stream",
     "text": [
      "好坏客户           0.000000\n",
      "可用额度比值       0.000000\n",
      "年龄               0.000000\n",
      "逾期30-59天笔数    0.000000\n",
      "负债率             0.000000\n",
      "月收入             0.195601\n",
      "信贷数量           0.000000\n",
      "逾期90天笔数       0.000000\n",
      "固定资产贷款量     0.000000\n",
      "逾期60-89天笔数    0.000000\n",
      "家属数量           0.025624\n",
      "dtype: float64\n"
     ]
    }
   ],
   "source": [
    "#2.2缺失值处理\n",
    "#查看缺失值情况\n",
    "print(rawdata.isnull().mean());\n",
    "#可以看到，“月收入”缺失达到近20%，“家属数量”缺失较少仅有2.6%的确实。"
   ]
  },
  {
   "cell_type": "code",
   "execution_count": 9,
   "metadata": {
    "scrolled": true
   },
   "outputs": [
    {
     "data": {
      "image/png": "[encoded data removed]",
      "text/plain": [
       "<matplotlib.figure.Figure at 0x10e65f630>"
      ]
     },
     "metadata": {},
     "output_type": "display_data"
    },
    {
     "data": {
      "image/png": "[encoded data removed]",
      "text/plain": [
       "<matplotlib.figure.Figure at 0x113661978>"
      ]
     },
     "metadata": {},
     "output_type": "display_data"
    }
   ],
   "source": [
    "#查看缺失值分布形态\n",
    "null_list=['月收入','家属数量'];\n",
    "for col in null_list:\n",
    "    plt.style.use('bmh');\n",
    "    plt.hist(rawdata[col].dropna().values);\n",
    "    plt.show();"
   ]
  },
  {
   "cell_type": "code",
   "execution_count": 10,
   "metadata": {},
   "outputs": [],
   "source": [
    "#可以看到，数据呈现正偏态。由于“家属数量”缺失较少，我们直接用中位数填充。\n",
    "rawdata['家属数量'].fillna(rawdata['家属数量'].median(),inplace=True)\n",
    "#“月收入”这个特征对于征信来说非常重要，在这里采用随机森林填补法来填充，\n",
    "#即将缺失的特征值作为预测值，将未缺失的“月收入”数据作为训练样本的标签。\n",
    "#定义随机森林填补函数\n",
    "def fill_missing_rf(X,y,to_fill):\n",
    "    \"\"\"\n",
    "    使用随机森林填补一个特征的缺失值的函数\n",
    "    参数：\n",
    "    X：要填补的特征矩阵\n",
    "    y：完整的，没有缺失值的标签\n",
    "    to_fill：字符串，要填补的那一列的名称\n",
    "    \"\"\"\n",
    "    #构建我们的新特征矩阵和新标签\n",
    "    df = X.copy();\n",
    "    fill = df.loc[:,to_fill];\n",
    "    df = pd.concat([df.loc[:,df.columns != to_fill],pd.DataFrame(y)],axis=1);\n",
    "    \n",
    "    #找出我们的训练集和测试集\n",
    "    Ytrain = fill[fill.notnull()];\n",
    "    Ytest = fill[fill.isnull()];\n",
    "    Xtrain = df.iloc[Ytrain.index,:];\n",
    "    Xtest = df.iloc[Ytest.index,:];\n",
    "    \n",
    "    #用随机森林回归来填补缺失值\n",
    "    from sklearn.ensemble import RandomForestRegressor as rfr;\n",
    "    rfr = rfr(n_estimators=100);\n",
    "    #训练合适的参数\n",
    "    rfr = rfr.fit(Xtrain,Ytrain);\n",
    "    #使用训练出来的参数的分类器，预测测试集的结果\n",
    "    Ypredict = rfr.predict(Xtest);\n",
    "    \n",
    "    return Ypredict;"
   ]
  },
  {
   "cell_type": "code",
   "execution_count": 11,
   "metadata": {},
   "outputs": [],
   "source": [
    "#用这个函数预测缺失的“月收入”部分，并替换缺失值。\n",
    "X = rawdata.iloc[:,1:];#取除第一列之外的作为特征X\n",
    "y = rawdata['好坏客户'];#取第一列作为标签，结果列\n",
    "\n",
    "y_pred = fill_missing_rf(X,y,'月收入');\n",
    "rawdata.loc[rawdata.loc[:,'月收入'].isnull(),'月收入'] = y_pred;"
   ]
  },
  {
   "cell_type": "code",
   "execution_count": 12,
   "metadata": {},
   "outputs": [
    {
     "data": {
      "text/html": [
       "<div>\n",
       "<style scoped>\n",
       "    .dataframe tbody tr th:only-of-type {\n",
       "        vertical-align: middle;\n",
       "    }\n",
       "\n",
       "    .dataframe tbody tr th {\n",
       "        vertical-align: top;\n",
       "    }\n",
       "\n",
       "    .dataframe thead th {\n",
       "        text-align: right;\n",
       "    }\n",
       "</style>\n",
       "<table border=\"1\" class=\"dataframe\">\n",
       "  <thead>\n",
       "    <tr style=\"text-align: right;\">\n",
       "      <th></th>\n",
       "      <th>count</th>\n",
       "      <th>mean</th>\n",
       "      <th>std</th>\n",
       "      <th>min</th>\n",
       "      <th>1%</th>\n",
       "      <th>10%</th>\n",
       "      <th>25%</th>\n",
       "      <th>50%</th>\n",
       "      <th>75%</th>\n",
       "      <th>90%</th>\n",
       "      <th>99%</th>\n",
       "      <th>max</th>\n",
       "    </tr>\n",
       "  </thead>\n",
       "  <tbody>\n",
       "    <tr>\n",
       "      <th>好坏客户</th>\n",
       "      <td>149391.0</td>\n",
       "      <td>0.066999</td>\n",
       "      <td>0.250021</td>\n",
       "      <td>0.0</td>\n",
       "      <td>0.0</td>\n",
       "      <td>0.000000</td>\n",
       "      <td>0.000000</td>\n",
       "      <td>0.000000</td>\n",
       "      <td>0.000000</td>\n",
       "      <td>0.000000</td>\n",
       "      <td>1.000000</td>\n",
       "      <td>1.0</td>\n",
       "    </tr>\n",
       "    <tr>\n",
       "      <th>可用额度比值</th>\n",
       "      <td>149391.0</td>\n",
       "      <td>6.071087</td>\n",
       "      <td>250.263672</td>\n",
       "      <td>0.0</td>\n",
       "      <td>0.0</td>\n",
       "      <td>0.003199</td>\n",
       "      <td>0.030132</td>\n",
       "      <td>0.154235</td>\n",
       "      <td>0.556494</td>\n",
       "      <td>0.978007</td>\n",
       "      <td>1.093922</td>\n",
       "      <td>50708.0</td>\n",
       "    </tr>\n",
       "    <tr>\n",
       "      <th>年龄</th>\n",
       "      <td>149391.0</td>\n",
       "      <td>52.306237</td>\n",
       "      <td>14.725962</td>\n",
       "      <td>0.0</td>\n",
       "      <td>24.0</td>\n",
       "      <td>33.000000</td>\n",
       "      <td>41.000000</td>\n",
       "      <td>52.000000</td>\n",
       "      <td>63.000000</td>\n",
       "      <td>72.000000</td>\n",
       "      <td>87.000000</td>\n",
       "      <td>109.0</td>\n",
       "    </tr>\n",
       "    <tr>\n",
       "      <th>逾期30-59天笔数</th>\n",
       "      <td>149391.0</td>\n",
       "      <td>0.393886</td>\n",
       "      <td>3.852953</td>\n",
       "      <td>0.0</td>\n",
       "      <td>0.0</td>\n",
       "      <td>0.000000</td>\n",
       "      <td>0.000000</td>\n",
       "      <td>0.000000</td>\n",
       "      <td>0.000000</td>\n",
       "      <td>1.000000</td>\n",
       "      <td>4.000000</td>\n",
       "      <td>98.0</td>\n",
       "    </tr>\n",
       "    <tr>\n",
       "      <th>负债率</th>\n",
       "      <td>149391.0</td>\n",
       "      <td>354.436740</td>\n",
       "      <td>2041.843455</td>\n",
       "      <td>0.0</td>\n",
       "      <td>0.0</td>\n",
       "      <td>0.034991</td>\n",
       "      <td>0.177441</td>\n",
       "      <td>0.368234</td>\n",
       "      <td>0.875279</td>\n",
       "      <td>1275.000000</td>\n",
       "      <td>4985.100000</td>\n",
       "      <td>329664.0</td>\n",
       "    </tr>\n",
       "    <tr>\n",
       "      <th>月收入</th>\n",
       "      <td>149391.0</td>\n",
       "      <td>5425.578974</td>\n",
       "      <td>13254.557747</td>\n",
       "      <td>0.0</td>\n",
       "      <td>0.0</td>\n",
       "      <td>0.170000</td>\n",
       "      <td>1800.000000</td>\n",
       "      <td>4424.000000</td>\n",
       "      <td>7416.000000</td>\n",
       "      <td>10800.000000</td>\n",
       "      <td>23205.000000</td>\n",
       "      <td>3008750.0</td>\n",
       "    </tr>\n",
       "    <tr>\n",
       "      <th>信贷数量</th>\n",
       "      <td>149391.0</td>\n",
       "      <td>8.480892</td>\n",
       "      <td>5.136515</td>\n",
       "      <td>0.0</td>\n",
       "      <td>0.0</td>\n",
       "      <td>3.000000</td>\n",
       "      <td>5.000000</td>\n",
       "      <td>8.000000</td>\n",
       "      <td>11.000000</td>\n",
       "      <td>15.000000</td>\n",
       "      <td>24.000000</td>\n",
       "      <td>58.0</td>\n",
       "    </tr>\n",
       "    <tr>\n",
       "      <th>逾期90天笔数</th>\n",
       "      <td>149391.0</td>\n",
       "      <td>0.238120</td>\n",
       "      <td>3.826165</td>\n",
       "      <td>0.0</td>\n",
       "      <td>0.0</td>\n",
       "      <td>0.000000</td>\n",
       "      <td>0.000000</td>\n",
       "      <td>0.000000</td>\n",
       "      <td>0.000000</td>\n",
       "      <td>0.000000</td>\n",
       "      <td>3.000000</td>\n",
       "      <td>98.0</td>\n",
       "    </tr>\n",
       "    <tr>\n",
       "      <th>固定资产贷款量</th>\n",
       "      <td>149391.0</td>\n",
       "      <td>1.022391</td>\n",
       "      <td>1.130196</td>\n",
       "      <td>0.0</td>\n",
       "      <td>0.0</td>\n",
       "      <td>0.000000</td>\n",
       "      <td>0.000000</td>\n",
       "      <td>1.000000</td>\n",
       "      <td>2.000000</td>\n",
       "      <td>2.000000</td>\n",
       "      <td>4.000000</td>\n",
       "      <td>54.0</td>\n",
       "    </tr>\n",
       "    <tr>\n",
       "      <th>逾期60-89天笔数</th>\n",
       "      <td>149391.0</td>\n",
       "      <td>0.212503</td>\n",
       "      <td>3.810523</td>\n",
       "      <td>0.0</td>\n",
       "      <td>0.0</td>\n",
       "      <td>0.000000</td>\n",
       "      <td>0.000000</td>\n",
       "      <td>0.000000</td>\n",
       "      <td>0.000000</td>\n",
       "      <td>0.000000</td>\n",
       "      <td>2.000000</td>\n",
       "      <td>98.0</td>\n",
       "    </tr>\n",
       "    <tr>\n",
       "      <th>家属数量</th>\n",
       "      <td>149391.0</td>\n",
       "      <td>0.740393</td>\n",
       "      <td>1.108272</td>\n",
       "      <td>0.0</td>\n",
       "      <td>0.0</td>\n",
       "      <td>0.000000</td>\n",
       "      <td>0.000000</td>\n",
       "      <td>0.000000</td>\n",
       "      <td>1.000000</td>\n",
       "      <td>2.000000</td>\n",
       "      <td>4.000000</td>\n",
       "      <td>20.0</td>\n",
       "    </tr>\n",
       "  </tbody>\n",
       "</table>\n",
       "</div>"
      ],
      "text/plain": [
       "                    count         mean           std  min    1%        10%          25%          50%          75%           90%           99%        max\n",
       "好坏客户         149391.0     0.066999      0.250021  0.0   0.0   0.000000     0.000000     0.000000     0.000000      0.000000      1.000000        1.0\n",
       "可用额度比值     149391.0     6.071087    250.263672  0.0   0.0   0.003199     0.030132     0.154235     0.556494      0.978007      1.093922    50708.0\n",
       "年龄             149391.0    52.306237     14.725962  0.0  24.0  33.000000    41.000000    52.000000    63.000000     72.000000     87.000000      109.0\n",
       "逾期30-59天笔数  149391.0     0.393886      3.852953  0.0   0.0   0.000000     0.000000     0.000000     0.000000      1.000000      4.000000       98.0\n",
       "负债率           149391.0   354.436740   2041.843455  0.0   0.0   0.034991     0.177441     0.368234     0.875279   1275.000000   4985.100000   329664.0\n",
       "月收入           149391.0  5425.578974  13254.557747  0.0   0.0   0.170000  1800.000000  4424.000000  7416.000000  10800.000000  23205.000000  3008750.0\n",
       "信贷数量         149391.0     8.480892      5.136515  0.0   0.0   3.000000     5.000000     8.000000    11.000000     15.000000     24.000000       58.0\n",
       "逾期90天笔数     149391.0     0.238120      3.826165  0.0   0.0   0.000000     0.000000     0.000000     0.000000      0.000000      3.000000       98.0\n",
       "固定资产贷款量   149391.0     1.022391      1.130196  0.0   0.0   0.000000     0.000000     1.000000     2.000000      2.000000      4.000000       54.0\n",
       "逾期60-89天笔数  149391.0     0.212503      3.810523  0.0   0.0   0.000000     0.000000     0.000000     0.000000      0.000000      2.000000       98.0\n",
       "家属数量         149391.0     0.740393      1.108272  0.0   0.0   0.000000     0.000000     0.000000     1.000000      2.000000      4.000000       20.0"
      ]
     },
     "execution_count": 12,
     "metadata": {},
     "output_type": "execute_result"
    }
   ],
   "source": [
    "#异常值处理\n",
    "#描述性统计\n",
    "rawdata.describe([0.01,0.1,0.25,.5,.75,.9,.99]).T"
   ]
  },
  {
   "cell_type": "code",
   "execution_count": 13,
   "metadata": {},
   "outputs": [
    {
     "data": {
      "text/plain": [
       "[Text(0,0,'信贷数量'), Text(0,0,'固定资产贷款量')]"
      ]
     },
     "execution_count": 13,
     "metadata": {},
     "output_type": "execute_result"
    },
    {
     "data": {
      "image/png": "[encoded data removed]",
      "text/plain": [
       "<matplotlib.figure.Figure at 0x1a23cafc88>"
      ]
     },
     "metadata": {},
     "output_type": "display_data"
    }
   ],
   "source": [
    "#如果这样看的不明显，完全可以再画出箱线图。\n",
    "x1=rawdata['可用额度比值']\n",
    "x2=rawdata['负债率']\n",
    "x3=rawdata['年龄']\n",
    "x4=rawdata['逾期30-59天笔数']\n",
    "x5=rawdata['逾期60-89天笔数']\n",
    "x6=rawdata['逾期90天笔数']\n",
    "x7=rawdata['信贷数量']\n",
    "x8=rawdata['固定资产贷款量']\n",
    "\n",
    "fig=plt.figure(figsize=(20,15))\n",
    "ax1=fig.add_subplot(221)\n",
    "ax2=fig.add_subplot(222)\n",
    "ax3=fig.add_subplot(223)\n",
    "ax4=fig.add_subplot(224)\n",
    "\n",
    "ax1.boxplot([x1,x2])\n",
    "ax1.set_xticklabels([\"可用额度比值\",\"负债率\"], fontsize=20)\n",
    "\n",
    "ax2.boxplot(x3)\n",
    "ax2.set_xticklabels(\"年龄\", fontsize=20)\n",
    "\n",
    "ax3.boxplot([x4,x5,x6])\n",
    "ax3.set_xticklabels([\"逾期30-59天笔数\",\"逾期60-89天笔数\",\"逾期90天笔数\"], fontsize=20)\n",
    "\n",
    "ax4.boxplot([x7,x8])\n",
    "ax4.set_xticklabels([\"信贷数量\",\"固定资产贷款量\"], fontsize=20)"
   ]
  },
  {
   "cell_type": "code",
   "execution_count": 21,
   "metadata": {},
   "outputs": [],
   "source": [
    "#我们可以先来看描述性统计，“年龄”的最小值居然是0，\n",
    "#但是根据我们的常识，小于18岁是不能在银行办理信用卡或是贷款业务的。我们来看下小于18岁的有几行。\n",
    "rawdata[rawdata['年龄']<18]\n",
    "#会发现仅有“年龄”为0的这一行数据，很显然是异常值，将其删除。\n",
    "rawdata=rawdata[rawdata['年龄']!=0]"
   ]
  },
  {
   "cell_type": "code",
   "execution_count": 27,
   "metadata": {},
   "outputs": [
    {
     "name": "stdout",
     "output_type": "stream",
     "text": [
      "(0, 11)\n",
      "(0, 11)\n",
      "(0, 11)\n",
      "(0, 11)\n"
     ]
    }
   ],
   "source": [
    "#另外，通过箱线图，我们看到三个逾期天数指标（逾期30-59天、逾期60-80天，逾期90天）是存在比较严重的离群值的，这一点我们通过描述性统计也可以加以验证，这三个指标的99%分位数与max相差过大，存在异常。\n",
    "#因为本案例定义逾期90天以上就算作坏客户，我们先查看一下这三个逾期指标超过90天的数据。\n",
    "print(rawdata[rawdata['逾期30-59天笔数']>90].shape);\n",
    "print(rawdata[rawdata['逾期60-89天笔数']>90].shape);\n",
    "print(rawdata[rawdata['逾期90天笔数']>90].shape);\n",
    "#可以看到维度均为(225, 11)，可以猜测这三个指标出现异常的情况发生在相同的行。 \n",
    "print(rawdata[(rawdata['逾期90天笔数']>90) & (rawdata['逾期60-89天笔数']>90)\n",
    "              & (rawdata['逾期30-59天笔数']>90)].shape);\n",
    "#数据维度也是(225, 11)，果然验证了我们的猜想。将异常行删去。\n",
    "rawdata=rawdata[rawdata.loc[:,'逾期30-59天笔数']<90]"
   ]
  },
  {
   "cell_type": "code",
   "execution_count": 31,
   "metadata": {},
   "outputs": [
    {
     "data": {
      "text/plain": [
       "1    139292\n",
       "0    139292\n",
       "dtype: int64"
      ]
     },
     "execution_count": 31,
     "metadata": {},
     "output_type": "execute_result"
    }
   ],
   "source": [
    "#2.4处理样本不平衡\n",
    "#我们在之前查看过标签分布情况，0:1=139974:10026，是存在严重的样本不平衡的。\n",
    "#这是在金融风控中非常常见的，因为会存在严重违约的用户毕竟是少数。\n",
    "#在这里我们采取SMOTE上采样的方法处理数据不平衡。需要导入另一个机器学习库imblearn。\n",
    "import imblearn;\n",
    "from imblearn.over_sampling import SMOTE;\n",
    "\n",
    "smote = SMOTE(random_state=404)\n",
    "X,y=smote.fit_sample(rawdata.iloc[:,1:],rawdata.iloc[:,0]);\n",
    "pd.Series(y).value_counts()"
   ]
  },
  {
   "cell_type": "code",
   "execution_count": 35,
   "metadata": {},
   "outputs": [
    {
     "data": {
      "text/html": [
       "<div>\n",
       "<style scoped>\n",
       "    .dataframe tbody tr th:only-of-type {\n",
       "        vertical-align: middle;\n",
       "    }\n",
       "\n",
       "    .dataframe tbody tr th {\n",
       "        vertical-align: top;\n",
       "    }\n",
       "\n",
       "    .dataframe thead th {\n",
       "        text-align: right;\n",
       "    }\n",
       "</style>\n",
       "<table border=\"1\" class=\"dataframe\">\n",
       "  <thead>\n",
       "    <tr style=\"text-align: right;\">\n",
       "      <th></th>\n",
       "      <th>好坏客户</th>\n",
       "      <th>可用额度比值</th>\n",
       "      <th>年龄</th>\n",
       "      <th>逾期30-59天笔数</th>\n",
       "      <th>负债率</th>\n",
       "      <th>月收入</th>\n",
       "      <th>信贷数量</th>\n",
       "      <th>逾期90天笔数</th>\n",
       "      <th>固定资产贷款量</th>\n",
       "      <th>逾期60-89天笔数</th>\n",
       "      <th>家属数量</th>\n",
       "    </tr>\n",
       "  </thead>\n",
       "  <tbody>\n",
       "    <tr>\n",
       "      <th>0</th>\n",
       "      <td>1.0</td>\n",
       "      <td>0.766127</td>\n",
       "      <td>45.0</td>\n",
       "      <td>2.0</td>\n",
       "      <td>0.802982</td>\n",
       "      <td>9120.0</td>\n",
       "      <td>13.0</td>\n",
       "      <td>0.0</td>\n",
       "      <td>6.0</td>\n",
       "      <td>0.0</td>\n",
       "      <td>2.0</td>\n",
       "    </tr>\n",
       "    <tr>\n",
       "      <th>1</th>\n",
       "      <td>0.0</td>\n",
       "      <td>0.957151</td>\n",
       "      <td>40.0</td>\n",
       "      <td>0.0</td>\n",
       "      <td>0.121876</td>\n",
       "      <td>2600.0</td>\n",
       "      <td>4.0</td>\n",
       "      <td>0.0</td>\n",
       "      <td>0.0</td>\n",
       "      <td>0.0</td>\n",
       "      <td>1.0</td>\n",
       "    </tr>\n",
       "    <tr>\n",
       "      <th>2</th>\n",
       "      <td>0.0</td>\n",
       "      <td>0.658180</td>\n",
       "      <td>38.0</td>\n",
       "      <td>1.0</td>\n",
       "      <td>0.085113</td>\n",
       "      <td>3042.0</td>\n",
       "      <td>2.0</td>\n",
       "      <td>1.0</td>\n",
       "      <td>0.0</td>\n",
       "      <td>0.0</td>\n",
       "      <td>0.0</td>\n",
       "    </tr>\n",
       "    <tr>\n",
       "      <th>3</th>\n",
       "      <td>0.0</td>\n",
       "      <td>0.233810</td>\n",
       "      <td>30.0</td>\n",
       "      <td>0.0</td>\n",
       "      <td>0.036050</td>\n",
       "      <td>3300.0</td>\n",
       "      <td>5.0</td>\n",
       "      <td>0.0</td>\n",
       "      <td>0.0</td>\n",
       "      <td>0.0</td>\n",
       "      <td>0.0</td>\n",
       "    </tr>\n",
       "    <tr>\n",
       "      <th>4</th>\n",
       "      <td>0.0</td>\n",
       "      <td>0.907239</td>\n",
       "      <td>49.0</td>\n",
       "      <td>1.0</td>\n",
       "      <td>0.024926</td>\n",
       "      <td>63588.0</td>\n",
       "      <td>7.0</td>\n",
       "      <td>0.0</td>\n",
       "      <td>1.0</td>\n",
       "      <td>0.0</td>\n",
       "      <td>0.0</td>\n",
       "    </tr>\n",
       "  </tbody>\n",
       "</table>\n",
       "</div>"
      ],
      "text/plain": [
       "   好坏客户  可用额度比值  年龄  逾期30-59天笔数    负债率   月收入  信贷数量  逾期90天笔数  固定资产贷款量  逾期60-89天笔数  家属数量\n",
       "0       1.0      0.766127  45.0              2.0  0.802982   9120.0      13.0           0.0             6.0              0.0       2.0\n",
       "1       0.0      0.957151  40.0              0.0  0.121876   2600.0       4.0           0.0             0.0              0.0       1.0\n",
       "2       0.0      0.658180  38.0              1.0  0.085113   3042.0       2.0           1.0             0.0              0.0       0.0\n",
       "3       0.0      0.233810  30.0              0.0  0.036050   3300.0       5.0           0.0             0.0              0.0       0.0\n",
       "4       0.0      0.907239  49.0              1.0  0.024926  63588.0       7.0           0.0             1.0              0.0       0.0"
      ]
     },
     "execution_count": 35,
     "metadata": {},
     "output_type": "execute_result"
    }
   ],
   "source": [
    "#我们将经过平衡后的数据合并为一个新的数据集\n",
    "y = y.reshape(-1,1);\n",
    "data = np.concatenate((y,X),axis=1);\n",
    "data = pd.DataFrame(data,columns=rawdata.columns);\n",
    "data.head()"
   ]
  },
  {
   "cell_type": "code",
   "execution_count": 47,
   "metadata": {},
   "outputs": [],
   "source": [
    "#三、分箱\n",
    "#常用的分箱方法主要有三种：等频分箱、等宽分箱、CART树分箱。\n",
    "#我们选择最优的CART树分箱方法，将分箱的函数都写在一个cart_bins.py的类文件里，\n",
    "#下面贴出了最重要的一个自动分箱函数。\n",
    "def auto_bins(df,y,x,p=0.01,max_bin=20,plot=True):\n",
    "    \"\"\"\n",
    "    参数\n",
    "    df:传入需要进行分箱的数据集\n",
    "    y:标签名\n",
    "    x:进行分箱的特征名\n",
    "    p:叶子包含观测数的最小占比(0<p<0.5)，默认为0.01\n",
    "    max_bin:最大箱子数(大于2)，默认为20\n",
    "    plot:是否画WOE图\n",
    "    \"\"\"\n",
    "    from sklearn.tree import DecisionTreeClassifier\n",
    "    from sklearn.model_selection import GridSearchCV\n",
    "    import numpy as np\n",
    "    import pandas as pd\n",
    "    \n",
    "    # 指明X和Y变量数据,排除NA值\n",
    "    X = np.array(df[x][df[x].notna()]).reshape(-1,1)\n",
    "    Y = df[y][df[x].notna()]\n",
    "   \n",
    "    # 调参,得到最合适的叶节点观测占比\n",
    "    gini_impure = np.linspace(0,0.001,50)\n",
    "    param_grid = {\"min_impurity_decrease\":gini_impure}\n",
    "    Es = GridSearchCV(DecisionTreeClassifier(),param_grid,cv=5,iid=False)\n",
    "    Es.fit(X,Y)\n",
    "    \n",
    "    # 使用最优参数构建树模型\n",
    "    ES = DecisionTreeClassifier(min_impurity_decrease = \n",
    "                                Es.best_params_[\"min_impurity_decrease\"],\n",
    "                                max_leaf_nodes = max_bin,\n",
    "                                min_samples_leaf = p)    \n",
    "    ES.fit(X,Y)\n",
    "    print(type(ES));\n",
    "    print(type(x));\n",
    "    \n",
    "#     # 输出树结构\n",
    "#     TS = tree_structure(ES,x)\n",
    "    \n",
    "    # 抽取测试节点的阈值\n",
    "    TH = ES.tree_.threshold[ES.tree_.children_left != ES.tree_.children_right]\n",
    "    # 计算最优分割点\n",
    "    CP = np.append(TH,np.array([X.max(),X.min()]))\n",
    "    CP.sort()\n",
    "    \n",
    "#     # 使用自定义分箱函数\n",
    "#    smbin_cust = smbin_cu(df,y,x,cutpoints = CP,plot = plot)    \n",
    "    \n",
    "#     out_a = pd.Series({\"Tree_structure\":TS})\n",
    "    \n",
    "#     out = smbin_cust.append(out_a)\n",
    "\n",
    "#     return(out)"
   ]
  },
  {
   "cell_type": "code",
   "execution_count": 48,
   "metadata": {},
   "outputs": [
    {
     "name": "stdout",
     "output_type": "stream",
     "text": [
      "<class 'sklearn.tree.tree.DecisionTreeClassifier'>\n",
      "<class 'str'>\n"
     ]
    }
   ],
   "source": [
    "#我们可以来看下几个特征分箱后的WOE图。\n",
    "#可用额度比值\n",
    "cut1 = auto_bins(data,'好坏客户','可用额度比值')"
   ]
  },
  {
   "cell_type": "code",
   "execution_count": 50,
   "metadata": {},
   "outputs": [],
   "source": [
    "#四、LR建模\n",
    "from sklearn.model_selection import train_test_split\n",
    "\n",
    "X_train,X_test,Y_train,Y_test = train_test_split(X,y,test_size=0.3,random_state=1221)"
   ]
  },
  {
   "cell_type": "code",
   "execution_count": null,
   "metadata": {},
   "outputs": [],
   "source": [
    "#五、生成评分卡\n",
    "scorecard = smscale(glmodel,x_list,pdo=43,score=1150,odds=10)"
   ]
  }
 ],
 "metadata": {
  "kernelspec": {
   "display_name": "Python 3",
   "language": "python",
   "name": "python3"
  },
  "language_info": {
   "codemirror_mode": {
    "name": "ipython",
    "version": 3
   },
   "file_extension": ".py",
   "mimetype": "text/x-python",
   "name": "python",
   "nbconvert_exporter": "python",
   "pygments_lexer": "ipython3",
   "version": "3.6.7"
  }
 },
 "nbformat": 4,
 "nbformat_minor": 2
}
